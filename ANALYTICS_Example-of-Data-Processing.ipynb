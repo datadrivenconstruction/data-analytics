{
 "cells": [
  {
   "cell_type": "code",
   "execution_count": 1,
   "id": "41999a2b",
   "metadata": {
    "ExecuteTime": {
     "end_time": "2022-10-12T14:27:06.068292Z",
     "start_time": "2022-10-12T14:27:05.218806Z"
    },
    "execution": {
     "iopub.execute_input": "2022-10-12T15:24:46.742933Z",
     "iopub.status.busy": "2022-10-12T15:24:46.742317Z",
     "iopub.status.idle": "2022-10-12T15:24:46.795970Z",
     "shell.execute_reply": "2022-10-12T15:24:46.794673Z"
    },
    "papermill": {
     "duration": 0.064332,
     "end_time": "2022-10-12T15:24:46.799073",
     "exception": false,
     "start_time": "2022-10-12T15:24:46.734741",
     "status": "completed"
    },
    "tags": []
   },
   "outputs": [
    {
     "data": {
      "text/html": [
       "<div>\n",
       "<style scoped>\n",
       "    .dataframe tbody tr th:only-of-type {\n",
       "        vertical-align: middle;\n",
       "    }\n",
       "\n",
       "    .dataframe tbody tr th {\n",
       "        vertical-align: top;\n",
       "    }\n",
       "\n",
       "    .dataframe thead th {\n",
       "        text-align: right;\n",
       "    }\n",
       "</style>\n",
       "<table border=\"1\" class=\"dataframe\">\n",
       "  <thead>\n",
       "    <tr style=\"text-align: right;\">\n",
       "      <th></th>\n",
       "      <th>Id</th>\n",
       "      <th>Category</th>\n",
       "      <th>Type</th>\n",
       "      <th>Length</th>\n",
       "      <th>Volume</th>\n",
       "    </tr>\n",
       "  </thead>\n",
       "  <tbody>\n",
       "    <tr>\n",
       "      <th>0</th>\n",
       "      <td>12577</td>\n",
       "      <td>Wall</td>\n",
       "      <td>Wall WD100</td>\n",
       "      <td>3200</td>\n",
       "      <td>1.0</td>\n",
       "    </tr>\n",
       "    <tr>\n",
       "      <th>1</th>\n",
       "      <td>15889</td>\n",
       "      <td>Wall</td>\n",
       "      <td>Wall STB 200</td>\n",
       "      <td>5400</td>\n",
       "      <td>6.0</td>\n",
       "    </tr>\n",
       "    <tr>\n",
       "      <th>2</th>\n",
       "      <td>76554</td>\n",
       "      <td>Door</td>\n",
       "      <td>Glazed Back Door</td>\n",
       "      <td>1300</td>\n",
       "      <td>0.3</td>\n",
       "    </tr>\n",
       "    <tr>\n",
       "      <th>3</th>\n",
       "      <td>74456</td>\n",
       "      <td>Window</td>\n",
       "      <td>Window 1700w</td>\n",
       "      <td>1700</td>\n",
       "      <td>0.5</td>\n",
       "    </tr>\n",
       "  </tbody>\n",
       "</table>\n",
       "</div>"
      ],
      "text/plain": [
       "      Id Category              Type  Length  Volume\n",
       "0  12577     Wall        Wall WD100    3200     1.0\n",
       "1  15889     Wall      Wall STB 200    5400     6.0\n",
       "2  76554     Door  Glazed Back Door    1300     0.3\n",
       "3  74456   Window      Window 1700w    1700     0.5"
      ]
     },
     "execution_count": 1,
     "metadata": {},
     "output_type": "execute_result"
    }
   ],
   "source": [
    "# Importing Revit and IFC data\n",
    "\n",
    "import pandas as pd\n",
    "df = pd.read_csv('../input/revit-sample/Revit_Sample.csv')\n",
    "df"
   ]
  },
  {
   "cell_type": "code",
   "execution_count": 2,
   "id": "f1b485ce",
   "metadata": {
    "ExecuteTime": {
     "end_time": "2022-10-12T14:27:06.082334Z",
     "start_time": "2022-10-12T14:27:06.070177Z"
    },
    "execution": {
     "iopub.execute_input": "2022-10-12T15:24:46.810566Z",
     "iopub.status.busy": "2022-10-12T15:24:46.810182Z",
     "iopub.status.idle": "2022-10-12T15:24:46.831747Z",
     "shell.execute_reply": "2022-10-12T15:24:46.830393Z"
    },
    "papermill": {
     "duration": 0.030088,
     "end_time": "2022-10-12T15:24:46.834262",
     "exception": false,
     "start_time": "2022-10-12T15:24:46.804174",
     "status": "completed"
    },
    "tags": []
   },
   "outputs": [
    {
     "data": {
      "text/html": [
       "<div>\n",
       "<style scoped>\n",
       "    .dataframe tbody tr th:only-of-type {\n",
       "        vertical-align: middle;\n",
       "    }\n",
       "\n",
       "    .dataframe tbody tr th {\n",
       "        vertical-align: top;\n",
       "    }\n",
       "\n",
       "    .dataframe thead th {\n",
       "        text-align: right;\n",
       "    }\n",
       "</style>\n",
       "<table border=\"1\" class=\"dataframe\">\n",
       "  <thead>\n",
       "    <tr style=\"text-align: right;\">\n",
       "      <th></th>\n",
       "      <th>Id</th>\n",
       "      <th>Category</th>\n",
       "      <th>Type</th>\n",
       "      <th>Length</th>\n",
       "      <th>Volume</th>\n",
       "    </tr>\n",
       "  </thead>\n",
       "  <tbody>\n",
       "    <tr>\n",
       "      <th>0</th>\n",
       "      <td>12577</td>\n",
       "      <td>Wall</td>\n",
       "      <td>Wall WD100</td>\n",
       "      <td>3200</td>\n",
       "      <td>1.0</td>\n",
       "    </tr>\n",
       "    <tr>\n",
       "      <th>1</th>\n",
       "      <td>15889</td>\n",
       "      <td>Wall</td>\n",
       "      <td>Wall STB 200</td>\n",
       "      <td>5400</td>\n",
       "      <td>6.0</td>\n",
       "    </tr>\n",
       "    <tr>\n",
       "      <th>3</th>\n",
       "      <td>74456</td>\n",
       "      <td>Window</td>\n",
       "      <td>Window 1700w</td>\n",
       "      <td>1700</td>\n",
       "      <td>0.5</td>\n",
       "    </tr>\n",
       "  </tbody>\n",
       "</table>\n",
       "</div>"
      ],
      "text/plain": [
       "      Id Category          Type  Length  Volume\n",
       "0  12577     Wall    Wall WD100    3200     1.0\n",
       "1  15889     Wall  Wall STB 200    5400     6.0\n",
       "3  74456   Window  Window 1700w    1700     0.5"
      ]
     },
     "execution_count": 2,
     "metadata": {},
     "output_type": "execute_result"
    }
   ],
   "source": [
    "# Filtering data in Revit and IFC projects\n",
    "\n",
    "df[df['Category'].isin(['Wall', 'Window'])]\n"
   ]
  },
  {
   "cell_type": "code",
   "execution_count": 3,
   "id": "149b05c9",
   "metadata": {
    "ExecuteTime": {
     "end_time": "2022-10-12T14:27:21.753839Z",
     "start_time": "2022-10-12T14:27:20.734806Z"
    },
    "execution": {
     "iopub.execute_input": "2022-10-12T15:24:46.845781Z",
     "iopub.status.busy": "2022-10-12T15:24:46.845323Z",
     "iopub.status.idle": "2022-10-12T15:24:47.117917Z",
     "shell.execute_reply": "2022-10-12T15:24:47.116484Z"
    },
    "papermill": {
     "duration": 0.28208,
     "end_time": "2022-10-12T15:24:47.121294",
     "exception": false,
     "start_time": "2022-10-12T15:24:46.839214",
     "status": "completed"
    },
    "tags": []
   },
   "outputs": [
    {
     "data": {
      "text/plain": [
       "<AxesSubplot:ylabel='Length'>"
      ]
     },
     "execution_count": 3,
     "metadata": {},
     "output_type": "execute_result"
    },
    {
     "data": {
      "image/png": "[encoded data removed]",
      "text/plain": [
       "<Figure size 432x288 with 1 Axes>"
      ]
     },
     "metadata": {},
     "output_type": "display_data"
    }
   ],
   "source": [
    "# Create a basic pie chart\n",
    "\n",
    "df.groupby(['Type']).sum().plot.pie(y='Length')\n"
   ]
  },
  {
   "cell_type": "code",
   "execution_count": 4,
   "id": "c82babcc",
   "metadata": {
    "ExecuteTime": {
     "end_time": "2022-10-12T14:27:21.782416Z",
     "start_time": "2022-10-12T14:27:21.757563Z"
    },
    "execution": {
     "iopub.execute_input": "2022-10-12T15:24:47.141544Z",
     "iopub.status.busy": "2022-10-12T15:24:47.140496Z",
     "iopub.status.idle": "2022-10-12T15:24:47.159973Z",
     "shell.execute_reply": "2022-10-12T15:24:47.157720Z"
    },
    "papermill": {
     "duration": 0.034998,
     "end_time": "2022-10-12T15:24:47.165051",
     "exception": false,
     "start_time": "2022-10-12T15:24:47.130053",
     "status": "completed"
    },
    "tags": []
   },
   "outputs": [
    {
     "data": {
      "text/html": [
       "<div>\n",
       "<style scoped>\n",
       "    .dataframe tbody tr th:only-of-type {\n",
       "        vertical-align: middle;\n",
       "    }\n",
       "\n",
       "    .dataframe tbody tr th {\n",
       "        vertical-align: top;\n",
       "    }\n",
       "\n",
       "    .dataframe thead th {\n",
       "        text-align: right;\n",
       "    }\n",
       "</style>\n",
       "<table border=\"1\" class=\"dataframe\">\n",
       "  <thead>\n",
       "    <tr style=\"text-align: right;\">\n",
       "      <th></th>\n",
       "      <th>Id</th>\n",
       "      <th>Category</th>\n",
       "      <th>Type</th>\n",
       "      <th>Length</th>\n",
       "      <th>Volume</th>\n",
       "    </tr>\n",
       "  </thead>\n",
       "  <tbody>\n",
       "    <tr>\n",
       "      <th>0</th>\n",
       "      <td>12577</td>\n",
       "      <td>Wall</td>\n",
       "      <td>Wall WD100</td>\n",
       "      <td>3200</td>\n",
       "      <td>1.0</td>\n",
       "    </tr>\n",
       "    <tr>\n",
       "      <th>1</th>\n",
       "      <td>15889</td>\n",
       "      <td>Wall</td>\n",
       "      <td>Wall STB 200</td>\n",
       "      <td>5400</td>\n",
       "      <td>6.0</td>\n",
       "    </tr>\n",
       "  </tbody>\n",
       "</table>\n",
       "</div>"
      ],
      "text/plain": [
       "      Id Category          Type  Length  Volume\n",
       "0  12577     Wall    Wall WD100    3200     1.0\n",
       "1  15889     Wall  Wall STB 200    5400     6.0"
      ]
     },
     "execution_count": 4,
     "metadata": {},
     "output_type": "execute_result"
    }
   ],
   "source": [
    "#Regular expression in Revit and IFC\n",
    "\n",
    "df[df['Category'].str.match('Wal*')]\n"
   ]
  },
  {
   "cell_type": "code",
   "execution_count": 5,
   "id": "7cc86c82",
   "metadata": {
    "ExecuteTime": {
     "end_time": "2022-10-12T14:27:22.107410Z",
     "start_time": "2022-10-12T14:27:21.785331Z"
    },
    "execution": {
     "iopub.execute_input": "2022-10-12T15:24:47.185339Z",
     "iopub.status.busy": "2022-10-12T15:24:47.184801Z",
     "iopub.status.idle": "2022-10-12T15:24:47.205409Z",
     "shell.execute_reply": "2022-10-12T15:24:47.203605Z"
    },
    "papermill": {
     "duration": 0.032861,
     "end_time": "2022-10-12T15:24:47.208788",
     "exception": false,
     "start_time": "2022-10-12T15:24:47.175927",
     "status": "completed"
    },
    "tags": []
   },
   "outputs": [
    {
     "name": "stderr",
     "output_type": "stream",
     "text": [
      "/opt/conda/lib/python3.7/site-packages/ipykernel_launcher.py:3: FutureWarning: Indexing with multiple keys (implicitly converted to a tuple of keys) will be deprecated, use a list instead.\n",
      "  This is separate from the ipykernel package so we can avoid doing imports until\n"
     ]
    },
    {
     "data": {
      "text/html": [
       "<div>\n",
       "<style scoped>\n",
       "    .dataframe tbody tr th:only-of-type {\n",
       "        vertical-align: middle;\n",
       "    }\n",
       "\n",
       "    .dataframe tbody tr th {\n",
       "        vertical-align: top;\n",
       "    }\n",
       "\n",
       "    .dataframe thead th {\n",
       "        text-align: right;\n",
       "    }\n",
       "</style>\n",
       "<table border=\"1\" class=\"dataframe\">\n",
       "  <thead>\n",
       "    <tr style=\"text-align: right;\">\n",
       "      <th></th>\n",
       "      <th>Volume</th>\n",
       "      <th>Length</th>\n",
       "    </tr>\n",
       "    <tr>\n",
       "      <th>Category</th>\n",
       "      <th></th>\n",
       "      <th></th>\n",
       "    </tr>\n",
       "  </thead>\n",
       "  <tbody>\n",
       "    <tr>\n",
       "      <th>Door</th>\n",
       "      <td>0.3</td>\n",
       "      <td>1300</td>\n",
       "    </tr>\n",
       "    <tr>\n",
       "      <th>Wall</th>\n",
       "      <td>7.0</td>\n",
       "      <td>8600</td>\n",
       "    </tr>\n",
       "    <tr>\n",
       "      <th>Window</th>\n",
       "      <td>0.5</td>\n",
       "      <td>1700</td>\n",
       "    </tr>\n",
       "  </tbody>\n",
       "</table>\n",
       "</div>"
      ],
      "text/plain": [
       "          Volume  Length\n",
       "Category                \n",
       "Door         0.3    1300\n",
       "Wall         7.0    8600\n",
       "Window       0.5    1700"
      ]
     },
     "execution_count": 5,
     "metadata": {},
     "output_type": "execute_result"
    }
   ],
   "source": [
    "# Grouping a Revit or IFC project by parameters\n",
    "\n",
    "df.groupby('Category')['Volume', 'Length'].sum()"
   ]
  },
  {
   "cell_type": "code",
   "execution_count": 6,
   "id": "60fa12f3",
   "metadata": {
    "ExecuteTime": {
     "end_time": "2022-10-12T14:27:22.137438Z",
     "start_time": "2022-10-12T14:27:22.110886Z"
    },
    "execution": {
     "iopub.execute_input": "2022-10-12T15:24:47.225036Z",
     "iopub.status.busy": "2022-10-12T15:24:47.224602Z",
     "iopub.status.idle": "2022-10-12T15:24:47.243906Z",
     "shell.execute_reply": "2022-10-12T15:24:47.242639Z"
    },
    "papermill": {
     "duration": 0.031722,
     "end_time": "2022-10-12T15:24:47.246666",
     "exception": false,
     "start_time": "2022-10-12T15:24:47.214944",
     "status": "completed"
    },
    "tags": []
   },
   "outputs": [
    {
     "name": "stderr",
     "output_type": "stream",
     "text": [
      "/opt/conda/lib/python3.7/site-packages/ipykernel_launcher.py:4: FutureWarning: Indexing with multiple keys (implicitly converted to a tuple of keys) will be deprecated, use a list instead.\n",
      "  after removing the cwd from sys.path.\n"
     ]
    },
    {
     "data": {
      "text/html": [
       "<div>\n",
       "<style scoped>\n",
       "    .dataframe tbody tr th:only-of-type {\n",
       "        vertical-align: middle;\n",
       "    }\n",
       "\n",
       "    .dataframe tbody tr th {\n",
       "        vertical-align: top;\n",
       "    }\n",
       "\n",
       "    .dataframe thead th {\n",
       "        text-align: right;\n",
       "    }\n",
       "</style>\n",
       "<table border=\"1\" class=\"dataframe\">\n",
       "  <thead>\n",
       "    <tr style=\"text-align: right;\">\n",
       "      <th></th>\n",
       "      <th>Volume</th>\n",
       "      <th>Length</th>\n",
       "    </tr>\n",
       "    <tr>\n",
       "      <th>Category</th>\n",
       "      <th></th>\n",
       "      <th></th>\n",
       "    </tr>\n",
       "  </thead>\n",
       "  <tbody>\n",
       "    <tr>\n",
       "      <th>Wall</th>\n",
       "      <td>7.0</td>\n",
       "      <td>8600</td>\n",
       "    </tr>\n",
       "  </tbody>\n",
       "</table>\n",
       "</div>"
      ],
      "text/plain": [
       "          Volume  Length\n",
       "Category                \n",
       "Wall         7.0    8600"
      ]
     },
     "execution_count": 6,
     "metadata": {},
     "output_type": "execute_result"
    }
   ],
   "source": [
    "#QTO - Finding volumetric quantities for the group\n",
    "\n",
    "dfq= df[df['Category'].str.match('Wal*')]\n",
    "dfq = dfq.groupby('Category')['Volume', 'Length'].sum()\n",
    "dfq"
   ]
  },
  {
   "cell_type": "code",
   "execution_count": 7,
   "id": "dc559e40",
   "metadata": {
    "ExecuteTime": {
     "end_time": "2022-10-12T14:27:23.589917Z",
     "start_time": "2022-10-12T14:27:23.486369Z"
    },
    "execution": {
     "iopub.execute_input": "2022-10-12T15:24:47.260990Z",
     "iopub.status.busy": "2022-10-12T15:24:47.260515Z",
     "iopub.status.idle": "2022-10-12T15:24:47.447612Z",
     "shell.execute_reply": "2022-10-12T15:24:47.446288Z"
    },
    "papermill": {
     "duration": 0.197049,
     "end_time": "2022-10-12T15:24:47.450059",
     "exception": false,
     "start_time": "2022-10-12T15:24:47.253010",
     "status": "completed"
    },
    "tags": []
   },
   "outputs": [
    {
     "data": {
      "text/plain": [
       "<AxesSubplot:ylabel='Category'>"
      ]
     },
     "execution_count": 7,
     "metadata": {},
     "output_type": "execute_result"
    },
    {
     "data": {
      "image/png": "[encoded data removed]",
      "text/plain": [
       "<Figure size 432x288 with 1 Axes>"
      ]
     },
     "metadata": {
      "needs_background": "light"
     },
     "output_type": "display_data"
    }
   ],
   "source": [
    "# Bar plot can be created as follows\n",
    "\n",
    "dfp = df.groupby('Category')['Volume'].sum()\n",
    "dfp.plot(kind='barh')\n"
   ]
  },
  {
   "cell_type": "code",
   "execution_count": 8,
   "id": "1661e1cd",
   "metadata": {
    "ExecuteTime": {
     "end_time": "2022-10-12T14:27:24.032841Z",
     "start_time": "2022-10-12T14:27:24.014403Z"
    },
    "execution": {
     "iopub.execute_input": "2022-10-12T15:24:47.465013Z",
     "iopub.status.busy": "2022-10-12T15:24:47.464573Z",
     "iopub.status.idle": "2022-10-12T15:24:47.477737Z",
     "shell.execute_reply": "2022-10-12T15:24:47.476796Z"
    },
    "papermill": {
     "duration": 0.023743,
     "end_time": "2022-10-12T15:24:47.480217",
     "exception": false,
     "start_time": "2022-10-12T15:24:47.456474",
     "status": "completed"
    },
    "tags": []
   },
   "outputs": [
    {
     "data": {
      "text/html": [
       "<div>\n",
       "<style scoped>\n",
       "    .dataframe tbody tr th:only-of-type {\n",
       "        vertical-align: middle;\n",
       "    }\n",
       "\n",
       "    .dataframe tbody tr th {\n",
       "        vertical-align: top;\n",
       "    }\n",
       "\n",
       "    .dataframe thead th {\n",
       "        text-align: right;\n",
       "    }\n",
       "</style>\n",
       "<table border=\"1\" class=\"dataframe\">\n",
       "  <thead>\n",
       "    <tr style=\"text-align: right;\">\n",
       "      <th></th>\n",
       "      <th>sum</th>\n",
       "      <th>count</th>\n",
       "    </tr>\n",
       "    <tr>\n",
       "      <th>Category</th>\n",
       "      <th></th>\n",
       "      <th></th>\n",
       "    </tr>\n",
       "  </thead>\n",
       "  <tbody>\n",
       "    <tr>\n",
       "      <th>Door</th>\n",
       "      <td>0.3</td>\n",
       "      <td>1</td>\n",
       "    </tr>\n",
       "    <tr>\n",
       "      <th>Wall</th>\n",
       "      <td>7.0</td>\n",
       "      <td>2</td>\n",
       "    </tr>\n",
       "    <tr>\n",
       "      <th>Window</th>\n",
       "      <td>0.5</td>\n",
       "      <td>1</td>\n",
       "    </tr>\n",
       "  </tbody>\n",
       "</table>\n",
       "</div>"
      ],
      "text/plain": [
       "          sum  count\n",
       "Category            \n",
       "Door      0.3      1\n",
       "Wall      7.0      2\n",
       "Window    0.5      1"
      ]
     },
     "execution_count": 8,
     "metadata": {},
     "output_type": "execute_result"
    }
   ],
   "source": [
    "# Grouping with a quantity\n",
    "\n",
    "df_groups = df.groupby(['Category'])['Volume'].agg(['sum', 'count'])\n",
    "df_groups"
   ]
  },
  {
   "cell_type": "code",
   "execution_count": 9,
   "id": "d64a1540",
   "metadata": {
    "ExecuteTime": {
     "end_time": "2022-10-12T14:27:33.058794Z",
     "start_time": "2022-10-12T14:27:33.036063Z"
    },
    "execution": {
     "iopub.execute_input": "2022-10-12T15:24:47.495087Z",
     "iopub.status.busy": "2022-10-12T15:24:47.494642Z",
     "iopub.status.idle": "2022-10-12T15:24:47.888201Z",
     "shell.execute_reply": "2022-10-12T15:24:47.886933Z"
    },
    "papermill": {
     "duration": 0.404197,
     "end_time": "2022-10-12T15:24:47.891083",
     "exception": false,
     "start_time": "2022-10-12T15:24:47.486886",
     "status": "completed"
    },
    "tags": []
   },
   "outputs": [],
   "source": [
    "# Creating a grouping and saving as Excel\n",
    "\n",
    "dfe = df.groupby(['Category'])['Length'].agg(['sum', 'count'])\n",
    "dfe.to_excel(\"output.xlsx\",sheet_name='Category_estimate')  "
   ]
  },
  {
   "cell_type": "code",
   "execution_count": 10,
   "id": "64e79428",
   "metadata": {
    "ExecuteTime": {
     "end_time": "2022-10-12T14:27:06.571401Z",
     "start_time": "2022-10-12T14:27:06.571401Z"
    },
    "execution": {
     "iopub.execute_input": "2022-10-12T15:24:47.906133Z",
     "iopub.status.busy": "2022-10-12T15:24:47.905713Z",
     "iopub.status.idle": "2022-10-12T15:24:47.919149Z",
     "shell.execute_reply": "2022-10-12T15:24:47.918078Z"
    },
    "papermill": {
     "duration": 0.023856,
     "end_time": "2022-10-12T15:24:47.921570",
     "exception": false,
     "start_time": "2022-10-12T15:24:47.897714",
     "status": "completed"
    },
    "tags": []
   },
   "outputs": [
    {
     "data": {
      "text/html": [
       "<div>\n",
       "<style scoped>\n",
       "    .dataframe tbody tr th:only-of-type {\n",
       "        vertical-align: middle;\n",
       "    }\n",
       "\n",
       "    .dataframe tbody tr th {\n",
       "        vertical-align: top;\n",
       "    }\n",
       "\n",
       "    .dataframe thead th {\n",
       "        text-align: right;\n",
       "    }\n",
       "</style>\n",
       "<table border=\"1\" class=\"dataframe\">\n",
       "  <thead>\n",
       "    <tr style=\"text-align: right;\">\n",
       "      <th></th>\n",
       "      <th>Id</th>\n",
       "      <th>Category</th>\n",
       "      <th>Type</th>\n",
       "      <th>Length</th>\n",
       "      <th>Volume</th>\n",
       "    </tr>\n",
       "  </thead>\n",
       "  <tbody>\n",
       "    <tr>\n",
       "      <th>0</th>\n",
       "      <td>12577</td>\n",
       "      <td>Wände</td>\n",
       "      <td>Wall WD100</td>\n",
       "      <td>3200</td>\n",
       "      <td>1.0</td>\n",
       "    </tr>\n",
       "    <tr>\n",
       "      <th>1</th>\n",
       "      <td>15889</td>\n",
       "      <td>Wände</td>\n",
       "      <td>Wall STB 200</td>\n",
       "      <td>5400</td>\n",
       "      <td>6.0</td>\n",
       "    </tr>\n",
       "    <tr>\n",
       "      <th>2</th>\n",
       "      <td>76554</td>\n",
       "      <td>Door</td>\n",
       "      <td>Glazed Back Door</td>\n",
       "      <td>1300</td>\n",
       "      <td>0.3</td>\n",
       "    </tr>\n",
       "    <tr>\n",
       "      <th>3</th>\n",
       "      <td>74456</td>\n",
       "      <td>Window</td>\n",
       "      <td>Window 1700w</td>\n",
       "      <td>1700</td>\n",
       "      <td>0.5</td>\n",
       "    </tr>\n",
       "  </tbody>\n",
       "</table>\n",
       "</div>"
      ],
      "text/plain": [
       "      Id Category              Type  Length  Volume\n",
       "0  12577    Wände        Wall WD100    3200     1.0\n",
       "1  15889    Wände      Wall STB 200    5400     6.0\n",
       "2  76554     Door  Glazed Back Door    1300     0.3\n",
       "3  74456   Window      Window 1700w    1700     0.5"
      ]
     },
     "execution_count": 10,
     "metadata": {},
     "output_type": "execute_result"
    }
   ],
   "source": [
    "# Replacing values in parameters\n",
    "\n",
    "df.Category = df.Category.replace(\"Wall\", \"Wände\")\n",
    "df"
   ]
  },
  {
   "cell_type": "code",
   "execution_count": 11,
   "id": "ea6c7d09",
   "metadata": {
    "ExecuteTime": {
     "end_time": "2022-10-12T14:27:06.573426Z",
     "start_time": "2022-10-12T14:27:06.573426Z"
    },
    "execution": {
     "iopub.execute_input": "2022-10-12T15:24:47.936811Z",
     "iopub.status.busy": "2022-10-12T15:24:47.936053Z",
     "iopub.status.idle": "2022-10-12T15:24:47.949686Z",
     "shell.execute_reply": "2022-10-12T15:24:47.948488Z"
    },
    "papermill": {
     "duration": 0.023676,
     "end_time": "2022-10-12T15:24:47.951952",
     "exception": false,
     "start_time": "2022-10-12T15:24:47.928276",
     "status": "completed"
    },
    "tags": []
   },
   "outputs": [
    {
     "data": {
      "text/html": [
       "<div>\n",
       "<style scoped>\n",
       "    .dataframe tbody tr th:only-of-type {\n",
       "        vertical-align: middle;\n",
       "    }\n",
       "\n",
       "    .dataframe tbody tr th {\n",
       "        vertical-align: top;\n",
       "    }\n",
       "\n",
       "    .dataframe thead th {\n",
       "        text-align: right;\n",
       "    }\n",
       "</style>\n",
       "<table border=\"1\" class=\"dataframe\">\n",
       "  <thead>\n",
       "    <tr style=\"text-align: right;\">\n",
       "      <th></th>\n",
       "      <th>Id</th>\n",
       "      <th>Category</th>\n",
       "      <th>Type</th>\n",
       "      <th>Length</th>\n",
       "      <th>Volume</th>\n",
       "    </tr>\n",
       "  </thead>\n",
       "  <tbody>\n",
       "    <tr>\n",
       "      <th>0</th>\n",
       "      <td>12577</td>\n",
       "      <td>Wände</td>\n",
       "      <td>Wall WD100</td>\n",
       "      <td>3200</td>\n",
       "      <td>1.0</td>\n",
       "    </tr>\n",
       "    <tr>\n",
       "      <th>1</th>\n",
       "      <td>15889</td>\n",
       "      <td>Wände</td>\n",
       "      <td>Wall STB 200</td>\n",
       "      <td>5400</td>\n",
       "      <td>6.0</td>\n",
       "    </tr>\n",
       "  </tbody>\n",
       "</table>\n",
       "</div>"
      ],
      "text/plain": [
       "      Id Category          Type  Length  Volume\n",
       "0  12577    Wände    Wall WD100    3200     1.0\n",
       "1  15889    Wände  Wall STB 200    5400     6.0"
      ]
     },
     "execution_count": 11,
     "metadata": {},
     "output_type": "execute_result"
    }
   ],
   "source": [
    "# Data filtering option\n",
    "\n",
    "f_filter = df['Category']=='Wände'\n",
    "df[f_filter]"
   ]
  },
  {
   "cell_type": "code",
   "execution_count": 12,
   "id": "1ba73bd3",
   "metadata": {
    "ExecuteTime": {
     "end_time": "2022-10-12T14:27:06.578915Z",
     "start_time": "2022-10-12T14:27:06.578915Z"
    },
    "execution": {
     "iopub.execute_input": "2022-10-12T15:24:47.967029Z",
     "iopub.status.busy": "2022-10-12T15:24:47.966618Z",
     "iopub.status.idle": "2022-10-12T15:24:47.978599Z",
     "shell.execute_reply": "2022-10-12T15:24:47.977374Z"
    },
    "papermill": {
     "duration": 0.022318,
     "end_time": "2022-10-12T15:24:47.981058",
     "exception": false,
     "start_time": "2022-10-12T15:24:47.958740",
     "status": "completed"
    },
    "tags": []
   },
   "outputs": [
    {
     "data": {
      "text/html": [
       "<div>\n",
       "<style scoped>\n",
       "    .dataframe tbody tr th:only-of-type {\n",
       "        vertical-align: middle;\n",
       "    }\n",
       "\n",
       "    .dataframe tbody tr th {\n",
       "        vertical-align: top;\n",
       "    }\n",
       "\n",
       "    .dataframe thead th {\n",
       "        text-align: right;\n",
       "    }\n",
       "</style>\n",
       "<table border=\"1\" class=\"dataframe\">\n",
       "  <thead>\n",
       "    <tr style=\"text-align: right;\">\n",
       "      <th></th>\n",
       "      <th>Id</th>\n",
       "      <th>Category</th>\n",
       "      <th>Type</th>\n",
       "    </tr>\n",
       "  </thead>\n",
       "  <tbody>\n",
       "    <tr>\n",
       "      <th>2</th>\n",
       "      <td>76554</td>\n",
       "      <td>Door</td>\n",
       "      <td>Glazed Back Door</td>\n",
       "    </tr>\n",
       "    <tr>\n",
       "      <th>3</th>\n",
       "      <td>74456</td>\n",
       "      <td>Window</td>\n",
       "      <td>Window 1700w</td>\n",
       "    </tr>\n",
       "  </tbody>\n",
       "</table>\n",
       "</div>"
      ],
      "text/plain": [
       "      Id Category              Type\n",
       "2  76554     Door  Glazed Back Door\n",
       "3  74456   Window      Window 1700w"
      ]
     },
     "execution_count": 12,
     "metadata": {},
     "output_type": "execute_result"
    }
   ],
   "source": [
    "# Purely integer-location based indexing for selection by position\n",
    "\n",
    "df.iloc[2:4, 0:3]"
   ]
  },
  {
   "cell_type": "code",
   "execution_count": 13,
   "id": "0116b914",
   "metadata": {
    "execution": {
     "iopub.execute_input": "2022-10-12T15:24:48.001204Z",
     "iopub.status.busy": "2022-10-12T15:24:48.000446Z",
     "iopub.status.idle": "2022-10-12T15:25:03.388984Z",
     "shell.execute_reply": "2022-10-12T15:25:03.387819Z"
    },
    "papermill": {
     "duration": 15.403648,
     "end_time": "2022-10-12T15:25:03.391702",
     "exception": false,
     "start_time": "2022-10-12T15:24:47.988054",
     "status": "completed"
    },
    "tags": []
   },
   "outputs": [
    {
     "name": "stdout",
     "output_type": "stream",
     "text": [
      "Collecting fpdf\r\n",
      "  Downloading fpdf-1.7.2.tar.gz (39 kB)\r\n",
      "  Preparing metadata (setup.py) ... \u001b[?25l-\b \bdone\r\n",
      "\u001b[?25hBuilding wheels for collected packages: fpdf\r\n",
      "  Building wheel for fpdf (setup.py) ... \u001b[?25l-\b \b\\\b \bdone\r\n",
      "\u001b[?25h  Created wheel for fpdf: filename=fpdf-1.7.2-py2.py3-none-any.whl size=40725 sha256=c51191ac666d5992ddda0598e515c9164bc10708a6bbe3f8fa3294a5b6154fab\r\n",
      "  Stored in directory: /root/.cache/pip/wheels/d7/ca/c8/86467e7957bbbcbdf4cf4870fc7dc95e9a16404b2e3c3a98c3\r\n",
      "Successfully built fpdf\r\n",
      "Installing collected packages: fpdf\r\n",
      "Successfully installed fpdf-1.7.2\r\n",
      "\u001b[33mWARNING: Running pip as the 'root' user can result in broken permissions and conflicting behaviour with the system package manager. It is recommended to use a virtual environment instead: https://pip.pypa.io/warnings/venv\u001b[0m\u001b[33m\r\n",
      "\u001b[0m"
     ]
    }
   ],
   "source": [
    "# PDF creation library installations\n",
    "\n",
    "!pip install fpdf"
   ]
  },
  {
   "cell_type": "code",
   "execution_count": 14,
   "id": "69ad2a3e",
   "metadata": {
    "ExecuteTime": {
     "end_time": "2022-10-12T14:38:32.957493Z",
     "start_time": "2022-10-12T14:38:32.912103Z"
    },
    "execution": {
     "iopub.execute_input": "2022-10-12T15:25:03.409011Z",
     "iopub.status.busy": "2022-10-12T15:25:03.408514Z",
     "iopub.status.idle": "2022-10-12T15:25:03.439580Z",
     "shell.execute_reply": "2022-10-12T15:25:03.438302Z"
    },
    "papermill": {
     "duration": 0.043133,
     "end_time": "2022-10-12T15:25:03.442444",
     "exception": false,
     "start_time": "2022-10-12T15:25:03.399311",
     "status": "completed"
    },
    "tags": []
   },
   "outputs": [
    {
     "name": "stderr",
     "output_type": "stream",
     "text": [
      "/opt/conda/lib/python3.7/site-packages/ipykernel_launcher.py:6: FutureWarning: Indexing with multiple keys (implicitly converted to a tuple of keys) will be deprecated, use a list instead.\n",
      "  \n"
     ]
    },
    {
     "data": {
      "text/plain": [
       "''"
      ]
     },
     "execution_count": 14,
     "metadata": {},
     "output_type": "execute_result"
    }
   ],
   "source": [
    "from fpdf import FPDF\n",
    "\n",
    "# Determining the volumetric characteristics of the group\n",
    "s_cat = 'Window'\n",
    "dfq= df[df['Category'].str.match(s_cat)]\n",
    "dfq = dfq.groupby('Category')['Volume', 'Length'].sum()\n",
    "cat_len = str(dfq.iloc[0]['Length'])\n",
    "cat_vol = str(dfq.iloc[0]['Volume'])\n",
    "\n",
    "# Creating a PDF document based on the parameters found\n",
    "pdf = FPDF()\n",
    "pdf.add_page()\n",
    "pdf.set_font('Arial', 'B', 16)\n",
    "pdf.cell(190, 8, 'Category: ' + s_cat, 2, 1, 'L')\n",
    "pdf.set_font('Arial', '', 14)\n",
    "pdf.cell(190, 8, 'Sum of volumes: ' + cat_vol, 2, 1, 'L')\n",
    "pdf.cell(190, 8, 'Sum of lengths: ' + cat_len, 2, 1, 'L')\n",
    "\n",
    "# Saving a document in PDF format\n",
    "pdf.output('Report_DataDrivenConstruction.pdf', 'F')"
   ]
  }
 ],
 "metadata": {
  "kernelspec": {
   "display_name": "Python 3",
   "language": "python",
   "name": "python3"
  },
  "language_info": {
   "codemirror_mode": {
    "name": "ipython",
    "version": 3
   },
   "file_extension": ".py",
   "mimetype": "text/x-python",
   "name": "python",
   "nbconvert_exporter": "python",
   "pygments_lexer": "ipython3",
   "version": "3.7.12"
  },
  "papermill": {
   "default_parameters": {},
   "duration": 26.649719,
   "end_time": "2022-10-12T15:25:04.171741",
   "environment_variables": {},
   "exception": null,
   "input_path": "__notebook__.ipynb",
   "output_path": "__notebook__.ipynb",
   "parameters": {},
   "start_time": "2022-10-12T15:24:37.522022",
   "version": "2.3.4"
  }
 },
 "nbformat": 4,
 "nbformat_minor": 5
}
